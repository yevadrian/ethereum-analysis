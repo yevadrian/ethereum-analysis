{
 "cells": [
  {
   "cell_type": "code",
   "execution_count": 1,
   "metadata": {},
   "outputs": [
    {
     "name": "stdout",
     "output_type": "stream",
     "text": [
      "Files saved successfully: deanonymous_score_100.csv, deanonymous_score_1000.csv, deanonymous_score_10000.csv\n"
     ]
    }
   ],
   "source": [
    "import pandas as pd\n",
    "import numpy as np\n",
    "\n",
    "# Load data\n",
    "df = pd.read_csv('deanonymous_score_default.csv')\n",
    "\n",
    "# Define clipping values\n",
    "clip_values = [100, 1000, 10000]\n",
    "\n",
    "# Iterate over clipping values and calculate deanonymous score\n",
    "for clip_value in clip_values:\n",
    "    # Clip the values of outTxn and inTxn\n",
    "    df[\"outTxn_clipped\"] = df[\"outTxn\"].clip(upper=clip_value)\n",
    "    df[\"inTxn_clipped\"] = df[\"inTxn\"].clip(upper=clip_value)\n",
    "\n",
    "    # Compute max values based on clipping\n",
    "    max_outTxn = df[\"outTxn_clipped\"].max()\n",
    "    max_inTxn = df[\"inTxn_clipped\"].max()\n",
    "\n",
    "    # Calculate deanonymous score\n",
    "    u = (2 * np.log10(df[\"outTxn_clipped\"].replace(0, 1)) - np.log10(max_outTxn)) / np.log10(max_outTxn)\n",
    "    v = (2 * np.log10(df[\"inTxn_clipped\"].replace(0, 1)) - np.log10(max_inTxn)) / np.log10(max_inTxn)\n",
    "\n",
    "    df[\"deanonymous\"] = 0.5 * (u + v)\n",
    "\n",
    "    # Save to file\n",
    "    filename = f'deanonymous_score_{clip_value}.csv'\n",
    "    df[[\"outTxn\", \"inTxn\", \"deanonymous\"]].to_csv(filename, index=False)\n",
    "\n",
    "print(\"Files saved successfully: deanonymous_score_100.csv, deanonymous_score_1000.csv, deanonymous_score_10000.csv\")"
   ]
  }
 ],
 "metadata": {
  "kernelspec": {
   "display_name": "Python 3",
   "language": "python",
   "name": "python3"
  },
  "language_info": {
   "codemirror_mode": {
    "name": "ipython",
    "version": 3
   },
   "file_extension": ".py",
   "mimetype": "text/x-python",
   "name": "python",
   "nbconvert_exporter": "python",
   "pygments_lexer": "ipython3",
   "version": "3.12.3"
  }
 },
 "nbformat": 4,
 "nbformat_minor": 2
}
