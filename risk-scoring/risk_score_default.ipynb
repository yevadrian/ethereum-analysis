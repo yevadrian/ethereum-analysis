{
 "cells": [
  {
   "cell_type": "code",
   "execution_count": 1,
   "metadata": {},
   "outputs": [
    {
     "name": "stdout",
     "output_type": "stream",
     "text": [
      "Iteration 1: ΔT = 1674614.2421, ΔR = 827292.8000, ΔC = 647367.8617, Δ = 1674614.2421\n",
      "Iteration 2: ΔT = 86656.5932, ΔR = 644070.0015, ΔC = 360411.2346, Δ = 644070.0015\n",
      "Iteration 3: ΔT = 65718.0131, ΔR = 360399.8588, ΔC = 208898.6225, Δ = 360399.8588\n",
      "Iteration 4: ΔT = 47292.4088, ΔR = 208878.8449, ΔC = 125089.2524, Δ = 208878.8449\n",
      "Iteration 5: ΔT = 34099.7410, ΔR = 125053.3207, ΔC = 77868.3246, Δ = 125053.3207\n",
      "Iteration 6: ΔT = 24768.3444, ΔR = 77801.1506, ΔC = 50459.3849, Δ = 77801.1506\n",
      "Iteration 7: ΔT = 18163.4801, ΔR = 50409.6625, ΔC = 33836.5502, Δ = 50409.6625\n",
      "Iteration 8: ΔT = 13424.2207, ΔR = 33803.1420, ΔC = 23300.2365, Δ = 33803.1420\n",
      "Iteration 9: ΔT = 9975.8673, ΔR = 23258.2543, ΔC = 16405.9011, Δ = 23258.2543\n",
      "Iteration 10: ΔT = 7459.0032, ΔR = 16356.6752, ΔC = 11743.3035, Δ = 16356.6752\n",
      "Iteration 11: ΔT = 5587.4370, ΔR = 11707.0806, ΔC = 8528.1980, Δ = 11707.0806\n",
      "Iteration 12: ΔT = 4203.7794, ΔR = 8501.1242, ΔC = 6287.2726, Δ = 8501.1242\n",
      "Iteration 13: ΔT = 3183.8417, ΔR = 6265.7687, ΔC = 4667.8954, Δ = 6265.7687\n",
      "Iteration 14: ΔT = 2417.1297, ΔR = 4650.2710, ΔC = 3493.8258, Δ = 4650.2710\n",
      "Iteration 15: ΔT = 1843.7880, ΔR = 3479.4896, ΔC = 2635.0868, Δ = 3479.4896\n",
      "Iteration 16: ΔT = 1415.2822, ΔR = 2622.9197, ΔC = 1994.7165, Δ = 2622.9197\n",
      "Iteration 17: ΔT = 1087.3877, ΔR = 1986.5808, ΔC = 1519.0202, Δ = 1986.5808\n",
      "Iteration 18: ΔT = 836.8771, ΔR = 1509.6443, ΔC = 1163.5051, Δ = 1509.6443\n",
      "Iteration 19: ΔT = 648.0029, ΔR = 1155.4840, ΔC = 896.9656, Δ = 1155.4840\n",
      "Iteration 20: ΔT = 504.1669, ΔR = 893.3047, ΔC = 695.0889, Δ = 893.3047\n",
      "Iteration 21: ΔT = 394.0170, ΔR = 693.0710, ΔC = 540.9922, Δ = 693.0710\n",
      "Iteration 22: ΔT = 309.0793, ΔR = 539.4927, ΔC = 421.9837, Δ = 539.4927\n",
      "Iteration 23: ΔT = 242.8506, ΔR = 420.7381, ΔC = 330.4717, Δ = 420.7381\n",
      "Iteration 24: ΔT = 191.7056, ΔR = 329.5874, ΔC = 259.6953, Δ = 329.5874\n",
      "Iteration 25: ΔT = 151.7417, ΔR = 259.0007, ΔC = 204.7216, Δ = 259.0007\n",
      "Iteration 26: ΔT = 120.4373, ΔR = 204.1671, ΔC = 161.8623, Δ = 204.1671\n",
      "Iteration 27: ΔT = 95.8319, ΔR = 161.4166, ΔC = 128.3105, Δ = 161.4166\n",
      "Iteration 28: ΔT = 76.4311, ΔR = 127.9572, ΔC = 101.9623, Δ = 127.9572\n",
      "Iteration 29: ΔT = 61.0893, ΔR = 101.7022, ΔC = 81.2383, Δ = 101.7022\n",
      "Iteration 30: ΔT = 48.9340, ΔR = 81.0410, ΔC = 64.8766, Δ = 81.0410\n",
      "Iteration 31: ΔT = 39.2732, ΔR = 64.7398, ΔC = 51.9234, Δ = 64.7398\n",
      "Iteration 32: ΔT = 31.5759, ΔR = 51.8264, ΔC = 41.6388, Δ = 51.8264\n",
      "Iteration 33: ΔT = 25.4299, ΔR = 41.5670, ΔC = 33.4513, Δ = 41.5670\n",
      "Iteration 34: ΔT = 20.5114, ΔR = 33.3985, ΔC = 26.9189, Δ = 33.3985\n",
      "Iteration 35: ΔT = 16.5678, ΔR = 26.8810, ΔC = 21.6969, Δ = 26.8810\n",
      "Iteration 36: ΔT = 13.4006, ΔR = 21.6687, ΔC = 17.5138, Δ = 21.6687\n",
      "Iteration 37: ΔT = 10.8526, ΔR = 17.4926, ΔC = 14.1568, Δ = 17.4926\n",
      "Iteration 38: ΔT = 8.7996, ΔR = 14.1406, ΔC = 11.4582, Δ = 14.1406\n",
      "Iteration 39: ΔT = 7.1430, ΔR = 11.4458, ΔC = 9.2853, Δ = 11.4458\n",
      "Iteration 40: ΔT = 5.8044, ΔR = 9.2759, ΔC = 7.5332, Δ = 9.2759\n",
      "Iteration 41: ΔT = 4.7215, ΔR = 7.5261, ΔC = 6.1185, Δ = 7.5261\n",
      "Iteration 42: ΔT = 3.8442, ΔR = 6.1131, ΔC = 4.9746, Δ = 6.1131\n",
      "Iteration 43: ΔT = 3.1328, ΔR = 4.9705, ΔC = 4.0485, Δ = 4.9705\n",
      "Iteration 44: ΔT = 2.5553, ΔR = 4.0454, ΔC = 3.2617, Δ = 4.0454\n",
      "Iteration 45: ΔT = 2.0639, ΔR = 3.2594, ΔC = 2.6521, Δ = 3.2594\n",
      "Iteration 46: ΔT = 1.6818, ΔR = 2.6503, ΔC = 2.1631, Δ = 2.6503\n",
      "Iteration 47: ΔT = 1.3744, ΔR = 2.1617, ΔC = 1.7667, Δ = 2.1617\n",
      "Iteration 48: ΔT = 1.1246, ΔR = 1.7656, ΔC = 1.4442, Δ = 1.7656\n",
      "Iteration 49: ΔT = 0.9210, ΔR = 1.4434, ΔC = 1.1815, Δ = 1.4434\n",
      "Iteration 50: ΔT = 0.7548, ΔR = 1.1809, ΔC = 0.9673, Δ = 1.1809\n",
      "Iteration 51: ΔT = 0.6189, ΔR = 0.9668, ΔC = 0.7925, Δ = 0.9668\n",
      "Iteration 52: ΔT = 0.5079, ΔR = 0.7921, ΔC = 0.6497, Δ = 0.7921\n",
      "Iteration 53: ΔT = 0.4170, ΔR = 0.6494, ΔC = 0.5329, Δ = 0.6494\n",
      "Iteration 54: ΔT = 0.3426, ΔR = 0.5327, ΔC = 0.4375, Δ = 0.5327\n",
      "Iteration 55: ΔT = 0.2816, ΔR = 0.4373, ΔC = 0.3593, Δ = 0.4373\n",
      "Iteration 56: ΔT = 0.2316, ΔR = 0.3592, ΔC = 0.2953, Δ = 0.3592\n",
      "Iteration 57: ΔT = 0.1906, ΔR = 0.2952, ΔC = 0.2428, Δ = 0.2952\n",
      "Iteration 58: ΔT = 0.1569, ΔR = 0.2427, ΔC = 0.1998, Δ = 0.2427\n",
      "Iteration 59: ΔT = 0.1293, ΔR = 0.1997, ΔC = 0.1644, Δ = 0.1997\n",
      "Iteration 60: ΔT = 0.1066, ΔR = 0.1644, ΔC = 0.1354, Δ = 0.1644\n",
      "Iteration 61: ΔT = 0.0879, ΔR = 0.1354, ΔC = 0.1116, Δ = 0.1354\n",
      "Iteration 62: ΔT = 0.0725, ΔR = 0.1116, ΔC = 0.0920, Δ = 0.1116\n",
      "Iteration 63: ΔT = 0.0598, ΔR = 0.0920, ΔC = 0.0759, Δ = 0.0920\n",
      "Iteration 64: ΔT = 0.0494, ΔR = 0.0759, ΔC = 0.0626, Δ = 0.0759\n",
      "Iteration 65: ΔT = 0.0408, ΔR = 0.0626, ΔC = 0.0517, Δ = 0.0626\n",
      "Iteration 66: ΔT = 0.0337, ΔR = 0.0517, ΔC = 0.0427, Δ = 0.0517\n",
      "Iteration 67: ΔT = 0.0279, ΔR = 0.0427, ΔC = 0.0353, Δ = 0.0427\n",
      "Iteration 68: ΔT = 0.0231, ΔR = 0.0353, ΔC = 0.0292, Δ = 0.0353\n",
      "Iteration 69: ΔT = 0.0191, ΔR = 0.0292, ΔC = 0.0241, Δ = 0.0292\n",
      "Iteration 70: ΔT = 0.0158, ΔR = 0.0241, ΔC = 0.0200, Δ = 0.0241\n",
      "Iteration 71: ΔT = 0.0131, ΔR = 0.0200, ΔC = 0.0165, Δ = 0.0200\n",
      "Iteration 72: ΔT = 0.0109, ΔR = 0.0165, ΔC = 0.0137, Δ = 0.0165\n",
      "Iteration 73: ΔT = 0.0090, ΔR = 0.0137, ΔC = 0.0113, Δ = 0.0137\n",
      "Iteration 74: ΔT = 0.0075, ΔR = 0.0113, ΔC = 0.0094, Δ = 0.0113\n",
      "Iteration 75: ΔT = 0.0062, ΔR = 0.0094, ΔC = 0.0078, Δ = 0.0094\n",
      "Convergence achieved!\n"
     ]
    }
   ],
   "source": [
    "import pandas as pd\n",
    "\n",
    "df = pd.read_csv(\"deanonymous_score_default.csv\")\n",
    "\n",
    "df[\"confidence\"] = 0.5\n",
    "df[\"trustiness\"] = 0.5\n",
    "df[\"reliability\"] = 0.7\n",
    "\n",
    "max_iterations = 1000\n",
    "epsilon = 0.01\n",
    "\n",
    "for iteration in range(max_iterations):\n",
    "    df[\"trustiness_prev\"] = df[\"trustiness\"]\n",
    "    df[\"reliability_prev\"] = df[\"reliability\"]\n",
    "    df[\"confidence_prev\"] = df[\"confidence\"]\n",
    "    df[\"weighted_score\"] = df[\"deanonymous\"] * df[\"confidence\"]\n",
    "    \n",
    "    trustiness_updates = df.groupby(\"to\")[\"weighted_score\"].mean()\n",
    "    df[\"trustiness\"] = df[\"to\"].map(trustiness_updates)\n",
    "\n",
    "    reliability_updates = df.groupby(\"from\")[\"confidence\"].mean()\n",
    "    df[\"reliability\"] = df[\"from\"].map(reliability_updates)\n",
    "\n",
    "    df[\"trustiness\"] = df[\"trustiness\"].clip(0, 1)\n",
    "    df[\"reliability\"] = df[\"reliability\"].clip(0, 1)\n",
    "\n",
    "    df[\"confidence\"] = (df[\"reliability\"] + (1 - abs(df[\"deanonymous\"] - df[\"trustiness\"]))) / 2\n",
    "\n",
    "    df[\"confidence\"] = df[\"confidence\"].clip(0, 1)\n",
    "\n",
    "    delta_t = (df[\"trustiness\"] - df[\"trustiness_prev\"]).abs().sum()\n",
    "    delta_r = (df[\"reliability\"] - df[\"reliability_prev\"]).abs().sum()\n",
    "    delta_c = (df[\"confidence\"] - df[\"confidence_prev\"]).abs().sum()\n",
    "    delta = max(delta_t, delta_r, delta_c)\n",
    "\n",
    "    print(f\"Iteration {iteration + 1}: ΔT = {delta_t:.4f}, ΔR = {delta_r:.4f}, ΔC = {delta_c:.4f}, Δ = {delta:.4f}\")\n",
    "\n",
    "    if delta < epsilon:\n",
    "        print(\"Convergence achieved!\")\n",
    "        break\n",
    "\n",
    "df[\"risk\"] = (1 - df[\"reliability\"]) * 10"
   ]
  },
  {
   "cell_type": "code",
   "execution_count": null,
   "metadata": {},
   "outputs": [],
   "source": [
    "risk_df = df.groupby(\"from\")[\"risk\"].mean().reset_index()\n",
    "\n",
    "addresses = pd.read_csv(\"labeled_addresses.csv\")\n",
    "addresses = addresses[addresses[\"label\"] == 1][\"Address\"]\n",
    "\n",
    "merged_df = pd.merge(\n",
    "    addresses.to_frame(name=\"address\"),\n",
    "    risk_df.rename(columns={\"from\": \"address\"}),\n",
    "    on=\"address\",\n",
    "    how=\"left\"\n",
    ")"
   ]
  },
  {
   "cell_type": "code",
   "execution_count": 4,
   "metadata": {},
   "outputs": [
    {
     "data": {
      "text/plain": [
       "37"
      ]
     },
     "execution_count": 4,
     "metadata": {},
     "output_type": "execute_result"
    }
   ],
   "source": [
    "len(merged_df[merged_df['risk'] < 6])"
   ]
  },
  {
   "cell_type": "code",
   "execution_count": 5,
   "metadata": {},
   "outputs": [
    {
     "data": {
      "text/plain": [
       "198"
      ]
     },
     "execution_count": 5,
     "metadata": {},
     "output_type": "execute_result"
    }
   ],
   "source": [
    "len(merged_df[merged_df['risk'] >= 6])"
   ]
  },
  {
   "cell_type": "code",
   "execution_count": 6,
   "metadata": {},
   "outputs": [
    {
     "data": {
      "text/plain": [
       "8"
      ]
     },
     "execution_count": 6,
     "metadata": {},
     "output_type": "execute_result"
    }
   ],
   "source": [
    "len(merged_df[merged_df['risk'].isna()])"
   ]
  },
  {
   "cell_type": "code",
   "execution_count": null,
   "metadata": {},
   "outputs": [],
   "source": [
    "risk_df = df.groupby(\"from\")[\"risk\"].mean().reset_index()\n",
    "\n",
    "addresses = pd.read_csv(\"labeled_addresses.csv\")\n",
    "addresses = addresses[addresses[\"label\"] == 0][\"Address\"]\n",
    "\n",
    "merged_df = pd.merge(\n",
    "    addresses.to_frame(name=\"address\"),\n",
    "    risk_df.rename(columns={\"from\": \"address\"}),\n",
    "    on=\"address\",\n",
    "    how=\"left\"\n",
    ")"
   ]
  },
  {
   "cell_type": "code",
   "execution_count": 8,
   "metadata": {},
   "outputs": [
    {
     "data": {
      "text/plain": [
       "457"
      ]
     },
     "execution_count": 8,
     "metadata": {},
     "output_type": "execute_result"
    }
   ],
   "source": [
    "len(merged_df[merged_df['risk'] < 6])"
   ]
  },
  {
   "cell_type": "code",
   "execution_count": 9,
   "metadata": {},
   "outputs": [
    {
     "data": {
      "text/plain": [
       "79"
      ]
     },
     "execution_count": 9,
     "metadata": {},
     "output_type": "execute_result"
    }
   ],
   "source": [
    "len(merged_df[merged_df['risk'] >= 6])"
   ]
  },
  {
   "cell_type": "code",
   "execution_count": 10,
   "metadata": {},
   "outputs": [
    {
     "data": {
      "text/plain": [
       "24"
      ]
     },
     "execution_count": 10,
     "metadata": {},
     "output_type": "execute_result"
    }
   ],
   "source": [
    "len(merged_df[merged_df['risk'].isna()])"
   ]
  }
 ],
 "metadata": {
  "kernelspec": {
   "display_name": "Python 3",
   "language": "python",
   "name": "python3"
  },
  "language_info": {
   "codemirror_mode": {
    "name": "ipython",
    "version": 3
   },
   "file_extension": ".py",
   "mimetype": "text/x-python",
   "name": "python",
   "nbconvert_exporter": "python",
   "pygments_lexer": "ipython3",
   "version": "3.12.3"
  }
 },
 "nbformat": 4,
 "nbformat_minor": 2
}
